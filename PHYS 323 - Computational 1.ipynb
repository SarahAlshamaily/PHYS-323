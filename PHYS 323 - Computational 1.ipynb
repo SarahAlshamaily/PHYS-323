{
 "cells": [
  {
   "cell_type": "code",
   "execution_count": 1,
   "id": "c264eb2f",
   "metadata": {},
   "outputs": [],
   "source": [
    "#Importing important packages\n",
    "\n",
    "import numpy as np\n",
    "import matplotlib.pyplot as plt\n",
    "%matplotlib inline"
   ]
  },
  {
   "cell_type": "code",
   "execution_count": 2,
   "id": "af584401",
   "metadata": {},
   "outputs": [
    {
     "data": {
      "text/plain": [
       "array([0.        , 0.01267177, 0.05087584, 0.11236513, 0.19194838,\n",
       "       0.28256874, 0.3766293 , 0.46712823, 0.54837818, 0.61630527])"
      ]
     },
     "execution_count": 2,
     "metadata": {},
     "output_type": "execute_result"
    }
   ],
   "source": [
    "#Part A -> defining a function called functionevaluation\n",
    "\n",
    "def functionevaluation(x): \n",
    "    func = (np.exp(-x**2/np.pi))*(np.log(1+x**2+((x**3)/3)))\n",
    "    return func\n",
    "\n",
    "value = np.linspace(0,1.0,10)\n",
    "functionevaluation(value)"
   ]
  },
  {
   "cell_type": "code",
   "execution_count": 3,
   "id": "b24b66cf",
   "metadata": {},
   "outputs": [
    {
     "data": {
      "text/plain": [
       "array([0.02941176, 0.09191176, 0.15441176, 0.21691176, 0.27941176,\n",
       "       0.34191176, 0.40441176, 0.46691176, 0.52941176, 0.59191176,\n",
       "       0.65441176, 0.71691176, 0.77941176, 0.84191176, 0.90441176,\n",
       "       0.96691176, 1.02941176])"
      ]
     },
     "execution_count": 3,
     "metadata": {},
     "output_type": "execute_result"
    }
   ],
   "source": [
    "#Part B -> defining a function called midpointarray\n",
    "\n",
    "def midpointarray(xi,xf,N):\n",
    "    midarray = np.linspace(xi,xf,N)+(xf-xi)/(2*N)\n",
    "    return midarray\n",
    "\n",
    "midpointarray(0,1,17)"
   ]
  },
  {
   "cell_type": "code",
   "execution_count": 4,
   "id": "4e025aa0",
   "metadata": {},
   "outputs": [
    {
     "name": "stdout",
     "output_type": "stream",
     "text": [
      "[0.73011735 0.24208253 0.81078468 0.49072809 0.09998325 0.3895488\n",
      " 0.87317578 0.75238226 0.16518431 0.28114869] \n",
      "\n",
      "[0.58389597 0.98176539 0.31062958 0.76259818 0.0761889  0.53030646\n",
      " 0.03780065 0.68873629 0.98182536 0.49703814] \n",
      "\n",
      "[0.33777198 0.83423994 0.81815278 0.19426882 0.97944156 0.17219331\n",
      " 0.79481588 0.68325658 0.70407156 0.91921512] \n",
      "\n",
      "[0.48677933 0.54890857 0.7071439  0.42707557 0.13849087 0.81630986\n",
      " 0.66505956 0.71366057 0.22961722 0.74747397] \n",
      "\n",
      "[0.36260895 0.23233717 0.37436633 0.27605965 0.98471064 0.56282487\n",
      " 0.6311037  0.06373788 0.16004352 0.78564867] \n",
      "\n"
     ]
    }
   ],
   "source": [
    "#Part C -> defining a function called randomarray\n",
    "\n",
    "def randomarray(xi,xf,N):\n",
    "    randarray = np.random.rand(N)*(xf-xi)+xi\n",
    "    return randarray\n",
    "\n",
    "first = randomarray(0,1,10)\n",
    "second = randomarray(0,1,10)\n",
    "third = randomarray(0,1,10)\n",
    "fourth = randomarray(0,1,10)\n",
    "fifth = randomarray(0,1,10)\n",
    "\n",
    "print(first,\"\\n\")\n",
    "print(second,\"\\n\")\n",
    "print(third,\"\\n\")\n",
    "print(fourth,\"\\n\")\n",
    "print(fifth,\"\\n\")"
   ]
  },
  {
   "cell_type": "code",
   "execution_count": 5,
   "id": "180c350f",
   "metadata": {},
   "outputs": [
    {
     "data": {
      "text/plain": [
       "1.0306265048189576"
      ]
     },
     "execution_count": 5,
     "metadata": {},
     "output_type": "execute_result"
    }
   ],
   "source": [
    "#Part D -> defining a function that calls midpointarray and functionevaluation\n",
    "\n",
    "y = midpointarray(1,3,1000)\n",
    "\n",
    "def integratefunc(xi,xf,N):\n",
    "    val = functionevaluation(y)\n",
    "    intfunc = ((np.sum(val))/N)*(xf-xi)\n",
    "    return intfunc\n",
    "\n",
    "integratefunc(1,3,1000)"
   ]
  },
  {
   "cell_type": "code",
   "execution_count": 20,
   "id": "9e59fc5d",
   "metadata": {},
   "outputs": [
    {
     "name": "stdout",
     "output_type": "stream",
     "text": [
      "Average is: 1.0169571496101837\n",
      "Average is: 1.0173908732174113\n",
      "Average is: 1.0320818852847335\n",
      "Average is: 1.0346677052197424\n",
      "Average is: 1.0226857052224934\n"
     ]
    }
   ],
   "source": [
    "#Part E -> defining a function that calls randomarray and functionevaluation\n",
    "\n",
    "def integratefunc2(xi,xf,N):\n",
    "    x = randomarray(xi,xf,N)\n",
    "    y = functionevaluation(x)\n",
    "    for n in range(1,5):\n",
    "        val = ((np.sum(y))/N)*(xf-xi)\n",
    "    return val\n",
    "\n",
    "val1 = integratefunc2(1,3,1000)\n",
    "val2 = integratefunc2(1,3,1000)\n",
    "val3 = integratefunc2(1,3,1000)\n",
    "val4 = integratefunc2(1,3,1000)\n",
    "val5 = integratefunc2(1,3,1000)\n",
    "\n",
    "print(\"Average is:\",val1)\n",
    "print(\"Average is:\",val2)\n",
    "print(\"Average is:\",val3)\n",
    "print(\"Average is:\",val4)\n",
    "print(\"Average is:\",val5)"
   ]
  },
  {
   "cell_type": "code",
   "execution_count": 7,
   "id": "3a66d9a5",
   "metadata": {},
   "outputs": [
    {
     "name": "stdout",
     "output_type": "stream",
     "text": [
      "The trapezoidal method gives: 1.030626197448495\n"
     ]
    }
   ],
   "source": [
    "#Part F -> trapezoidal method\n",
    "\n",
    "xi = 1 #start point\n",
    "xf = 3 #end point\n",
    "N = 1000 #intervals\n",
    "X = (xf-xi)/N\n",
    "sums = 0\n",
    "\n",
    "def trap(xi,xf,N):\n",
    "    x = np.linspace(xi,xf,N)\n",
    "    trapfunc = (np.exp((-x**2/np.pi)))*(np.log(1+x**2+((x**3)/3)))\n",
    "    return trapfunc\n",
    "\n",
    "for n in range(N-1):\n",
    "    sums = sums + (2*trap(1,3,N))[n+1]\n",
    "\n",
    "trapezoid = (sums+trap(1,3,N)[0]+trap(1,3,N)[-1])*(X/2)\n",
    "\n",
    "print(\"The trapezoidal method gives:\",trapezoid)"
   ]
  }
 ],
 "metadata": {
  "kernelspec": {
   "display_name": "Python 3 (ipykernel)",
   "language": "python",
   "name": "python3"
  },
  "language_info": {
   "codemirror_mode": {
    "name": "ipython",
    "version": 3
   },
   "file_extension": ".py",
   "mimetype": "text/x-python",
   "name": "python",
   "nbconvert_exporter": "python",
   "pygments_lexer": "ipython3",
   "version": "3.9.6"
  }
 },
 "nbformat": 4,
 "nbformat_minor": 5
}
