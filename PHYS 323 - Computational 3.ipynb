{
 "cells": [
  {
   "cell_type": "code",
   "execution_count": 91,
   "id": "12d10e3a",
   "metadata": {},
   "outputs": [
    {
     "name": "stdout",
     "output_type": "stream",
     "text": [
      "Populating the interactive namespace from numpy and matplotlib\n"
     ]
    },
    {
     "name": "stderr",
     "output_type": "stream",
     "text": [
      "/opt/conda/lib/python3.9/site-packages/IPython/core/magics/pylab.py:159: UserWarning: pylab import has clobbered these variables: ['e', 'f']\n",
      "`%matplotlib` prevents importing * from pylab and numpy\n",
      "  warn(\"pylab import has clobbered these variables: %s\"  % clobbered +\n"
     ]
    }
   ],
   "source": [
    "#Importing required packages\n",
    "\n",
    "import scipy\n",
    "from scipy import signal\n",
    "import scipy.integrate\n",
    "import math\n",
    "import matplotlib.pyplot as plt\n",
    "%pylab nbagg\n",
    "%matplotlib nbagg\n",
    "%matplotlib inline"
   ]
  },
  {
   "cell_type": "code",
   "execution_count": 92,
   "id": "c36edfea",
   "metadata": {},
   "outputs": [],
   "source": [
    "#Introducing required constants and values\n",
    "\n",
    "hbar    = 6.63e-34       #Obtained from internet\n",
    "mass    = 9.1e-31        #In kilograms\n",
    "angfreq = 1              #Dividing 2pi/2pi = 1\n",
    "e       = 1.5\n",
    "a       = 0.22\n",
    "f       = 2\n",
    "xo      = 0\n",
    "T       = 2.5\n",
    "A       = 1/np.sqrt(2)   #Normalization constant\n",
    "L       = 0.22\n",
    "\n",
    "x       = np.linspace(-4,0,1000)\n",
    "x1      = np.linspace(.4,2*f+5,1000)\n",
    "\n",
    "Z       = np.sqrt((m*w)/hbar)*x       #Expression for \"zs\""
   ]
  },
  {
   "cell_type": "code",
   "execution_count": 93,
   "id": "f5840eeb",
   "metadata": {},
   "outputs": [
    {
     "name": "stdout",
     "output_type": "stream",
     "text": [
      "The first 10 eigenstates of the wave function sample a fraction of: 0.9003163161571061\n"
     ]
    }
   ],
   "source": [
    "#Decomposing square waves\n",
    "\n",
    "y = []\n",
    "Odd_n = np.arange(1,50,2)\n",
    "\n",
    "for X in x:\n",
    "    sumterms = []\n",
    "    for ODD in Odd_n:\n",
    "        fractionterm =  A*4 / np.pi\n",
    "        sinterm = (1/Odd_n) * np.sin(Odd_n*X*np.pi)\n",
    "        sumterm = fractionterm * sinterm\n",
    "        sumterms.append(sumterm)\n",
    "        \n",
    "    y.append(np.sum(sumterms))\n",
    "    \n",
    "print(\"The first 10 eigenstates of the wave function sample a fraction of:\",fractionterm)"
   ]
  },
  {
   "cell_type": "code",
   "execution_count": 96,
   "id": "f1ae72b2",
   "metadata": {},
   "outputs": [
    {
     "name": "stderr",
     "output_type": "stream",
     "text": [
      "/tmp/ipykernel_65/2828981757.py:4: DeprecationWarning: scipy.sign is deprecated and will be removed in SciPy 2.0.0, use numpy.sign instead\n",
      "  plt.plot(x, A * (scipy.sign(np.sin(2 * np.pi * 0.5 * x))))\n",
      "/tmp/ipykernel_65/2828981757.py:5: DeprecationWarning: scipy.sign is deprecated and will be removed in SciPy 2.0.0, use numpy.sign instead\n",
      "  plt.plot(x1, A * (scipy.sign(np.sin(2 * np.pi * 0.5 * x1))))\n"
     ]
    },
    {
     "data": {
      "image/png": "[encoded data removed]",
      "text/plain": [
       "<Figure size 432x288 with 1 Axes>"
      ]
     },
     "metadata": {
      "needs_background": "light"
     },
     "output_type": "display_data"
    }
   ],
   "source": [
    "#Plotting square waves\n",
    "\n",
    "plt.plot(x,y)\n",
    "plt.plot(x, A * (scipy.sign(np.sin(2 * np.pi * 0.5 * x))))\n",
    "plt.plot(x1, A * (scipy.sign(np.sin(2 * np.pi * 0.5 * x1))))\n",
    "plt.ylim(-1,1)\n",
    "plt.xlim(-4,4)\n",
    "plt.title(\"Square Waves\")\n",
    "plt.grid()"
   ]
  },
  {
   "cell_type": "code",
   "execution_count": 95,
   "id": "da628b5a",
   "metadata": {},
   "outputs": [],
   "source": [
    "#Plotting PDF by creating a wavefunction function that takes in parameters of t1=0 and t2=2*pi\n",
    "\n",
    "def psi_z(t1,t2):\n",
    "    piterm    = 1/((np.pi)**(1/4))\n",
    "    expterm   = exp(-((z-2)**2)/2)\n",
    "    psi       = piterm * expterm\n",
    "    psi_z     = scipy.integrate(psi)\n",
    "    return psi_zs"
   ]
  }
 ],
 "metadata": {
  "kernelspec": {
   "display_name": "Python 3 (ipykernel)",
   "language": "python",
   "name": "python3"
  },
  "language_info": {
   "codemirror_mode": {
    "name": "ipython",
    "version": 3
   },
   "file_extension": ".py",
   "mimetype": "text/x-python",
   "name": "python",
   "nbconvert_exporter": "python",
   "pygments_lexer": "ipython3",
   "version": "3.9.6"
  }
 },
 "nbformat": 4,
 "nbformat_minor": 5
}
